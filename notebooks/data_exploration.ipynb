{
 "cells": [
  {
   "cell_type": "code",
   "execution_count": 3,
   "metadata": {},
   "outputs": [],
   "source": [
    "import numpy as np\n",
    "import pandas as pd"
   ]
  },
  {
   "cell_type": "code",
   "execution_count": 4,
   "metadata": {},
   "outputs": [
    {
     "data": {
      "text/html": [
       "<div>\n",
       "<style scoped>\n",
       "    .dataframe tbody tr th:only-of-type {\n",
       "        vertical-align: middle;\n",
       "    }\n",
       "\n",
       "    .dataframe tbody tr th {\n",
       "        vertical-align: top;\n",
       "    }\n",
       "\n",
       "    .dataframe thead th {\n",
       "        text-align: right;\n",
       "    }\n",
       "</style>\n",
       "<table border=\"1\" class=\"dataframe\">\n",
       "  <thead>\n",
       "    <tr style=\"text-align: right;\">\n",
       "      <th></th>\n",
       "      <th>DateTime</th>\n",
       "      <th>Tsoil.C.hummock</th>\n",
       "      <th>Tair.C</th>\n",
       "      <th>RH.percent</th>\n",
       "      <th>VWC.m3.per.m3.interhummock</th>\n",
       "      <th>VWC.m3.per.m3.hummock</th>\n",
       "    </tr>\n",
       "    <tr>\n",
       "      <th>Record</th>\n",
       "      <th></th>\n",
       "      <th></th>\n",
       "      <th></th>\n",
       "      <th></th>\n",
       "      <th></th>\n",
       "      <th></th>\n",
       "    </tr>\n",
       "  </thead>\n",
       "  <tbody>\n",
       "    <tr>\n",
       "      <th>1</th>\n",
       "      <td>2013-08-02 23:40:00</td>\n",
       "      <td>11.0269</td>\n",
       "      <td>15.7624</td>\n",
       "      <td>79.46</td>\n",
       "      <td>0.26180</td>\n",
       "      <td>0.13680</td>\n",
       "    </tr>\n",
       "    <tr>\n",
       "      <th>2</th>\n",
       "      <td>2013-08-02 23:50:00</td>\n",
       "      <td>10.9539</td>\n",
       "      <td>15.5471</td>\n",
       "      <td>80.05</td>\n",
       "      <td>0.26124</td>\n",
       "      <td>0.13736</td>\n",
       "    </tr>\n",
       "    <tr>\n",
       "      <th>3</th>\n",
       "      <td>2013-08-03 00:00:00</td>\n",
       "      <td>10.8977</td>\n",
       "      <td>15.0431</td>\n",
       "      <td>80.83</td>\n",
       "      <td>0.26156</td>\n",
       "      <td>0.13704</td>\n",
       "    </tr>\n",
       "    <tr>\n",
       "      <th>4</th>\n",
       "      <td>2013-08-03 00:10:00</td>\n",
       "      <td>10.8319</td>\n",
       "      <td>14.2438</td>\n",
       "      <td>82.57</td>\n",
       "      <td>0.26229</td>\n",
       "      <td>0.13736</td>\n",
       "    </tr>\n",
       "    <tr>\n",
       "      <th>5</th>\n",
       "      <td>2013-08-03 00:20:00</td>\n",
       "      <td>10.7582</td>\n",
       "      <td>13.8772</td>\n",
       "      <td>85.02</td>\n",
       "      <td>0.26201</td>\n",
       "      <td>0.13704</td>\n",
       "    </tr>\n",
       "    <tr>\n",
       "      <th>...</th>\n",
       "      <td>...</td>\n",
       "      <td>...</td>\n",
       "      <td>...</td>\n",
       "      <td>...</td>\n",
       "      <td>...</td>\n",
       "      <td>...</td>\n",
       "    </tr>\n",
       "    <tr>\n",
       "      <th>107819</th>\n",
       "      <td>2015-08-21 17:20:00</td>\n",
       "      <td>6.0770</td>\n",
       "      <td>15.3660</td>\n",
       "      <td>62.70</td>\n",
       "      <td>0.19350</td>\n",
       "      <td>0.13180</td>\n",
       "    </tr>\n",
       "    <tr>\n",
       "      <th>107820</th>\n",
       "      <td>2015-08-21 17:30:00</td>\n",
       "      <td>6.1790</td>\n",
       "      <td>14.0980</td>\n",
       "      <td>65.50</td>\n",
       "      <td>0.19350</td>\n",
       "      <td>0.13180</td>\n",
       "    </tr>\n",
       "    <tr>\n",
       "      <th>107821</th>\n",
       "      <td>2015-08-21 17:40:00</td>\n",
       "      <td>6.2550</td>\n",
       "      <td>16.3440</td>\n",
       "      <td>64.70</td>\n",
       "      <td>0.19350</td>\n",
       "      <td>0.13180</td>\n",
       "    </tr>\n",
       "    <tr>\n",
       "      <th>107822</th>\n",
       "      <td>2015-08-21 17:50:00</td>\n",
       "      <td>6.3310</td>\n",
       "      <td>14.7680</td>\n",
       "      <td>64.70</td>\n",
       "      <td>0.19350</td>\n",
       "      <td>0.13180</td>\n",
       "    </tr>\n",
       "    <tr>\n",
       "      <th>107823</th>\n",
       "      <td>2015-08-21 18:00:00</td>\n",
       "      <td>6.4080</td>\n",
       "      <td>16.0100</td>\n",
       "      <td>66.40</td>\n",
       "      <td>0.19350</td>\n",
       "      <td>0.13180</td>\n",
       "    </tr>\n",
       "  </tbody>\n",
       "</table>\n",
       "<p>107823 rows × 6 columns</p>\n",
       "</div>"
      ],
      "text/plain": [
       "                  DateTime  Tsoil.C.hummock   Tair.C  RH.percent  \\\n",
       "Record                                                             \n",
       "1      2013-08-02 23:40:00          11.0269  15.7624       79.46   \n",
       "2      2013-08-02 23:50:00          10.9539  15.5471       80.05   \n",
       "3      2013-08-03 00:00:00          10.8977  15.0431       80.83   \n",
       "4      2013-08-03 00:10:00          10.8319  14.2438       82.57   \n",
       "5      2013-08-03 00:20:00          10.7582  13.8772       85.02   \n",
       "...                    ...              ...      ...         ...   \n",
       "107819 2015-08-21 17:20:00           6.0770  15.3660       62.70   \n",
       "107820 2015-08-21 17:30:00           6.1790  14.0980       65.50   \n",
       "107821 2015-08-21 17:40:00           6.2550  16.3440       64.70   \n",
       "107822 2015-08-21 17:50:00           6.3310  14.7680       64.70   \n",
       "107823 2015-08-21 18:00:00           6.4080  16.0100       66.40   \n",
       "\n",
       "        VWC.m3.per.m3.interhummock  VWC.m3.per.m3.hummock  \n",
       "Record                                                     \n",
       "1                          0.26180                0.13680  \n",
       "2                          0.26124                0.13736  \n",
       "3                          0.26156                0.13704  \n",
       "4                          0.26229                0.13736  \n",
       "5                          0.26201                0.13704  \n",
       "...                            ...                    ...  \n",
       "107819                     0.19350                0.13180  \n",
       "107820                     0.19350                0.13180  \n",
       "107821                     0.19350                0.13180  \n",
       "107822                     0.19350                0.13180  \n",
       "107823                     0.19350                0.13180  \n",
       "\n",
       "[107823 rows x 6 columns]"
      ]
     },
     "execution_count": 4,
     "metadata": {},
     "output_type": "execute_result"
    }
   ],
   "source": [
    "df = pd.read_csv(\"../data/01_raw/data/TVC_logger_3_betula.csv\")\n",
    "df['DateTime'] = pd.to_datetime(df['DateTime'])\n",
    "df = df.set_index('Record')\n",
    "df"
   ]
  },
  {
   "cell_type": "code",
   "execution_count": 5,
   "metadata": {},
   "outputs": [
    {
     "data": {
      "text/plain": [
       "DateTime                      datetime64[ns]\n",
       "Tsoil.C.hummock                      float64\n",
       "Tair.C                               float64\n",
       "RH.percent                           float64\n",
       "VWC.m3.per.m3.interhummock           float64\n",
       "VWC.m3.per.m3.hummock                float64\n",
       "dtype: object"
      ]
     },
     "execution_count": 5,
     "metadata": {},
     "output_type": "execute_result"
    }
   ],
   "source": [
    "df.dtypes"
   ]
  },
  {
   "cell_type": "code",
   "execution_count": 6,
   "metadata": {},
   "outputs": [
    {
     "data": {
      "text/html": [
       "<div>\n",
       "<style scoped>\n",
       "    .dataframe tbody tr th:only-of-type {\n",
       "        vertical-align: middle;\n",
       "    }\n",
       "\n",
       "    .dataframe tbody tr th {\n",
       "        vertical-align: top;\n",
       "    }\n",
       "\n",
       "    .dataframe thead th {\n",
       "        text-align: right;\n",
       "    }\n",
       "</style>\n",
       "<table border=\"1\" class=\"dataframe\">\n",
       "  <thead>\n",
       "    <tr style=\"text-align: right;\">\n",
       "      <th></th>\n",
       "      <th>count</th>\n",
       "      <th>mean</th>\n",
       "      <th>std</th>\n",
       "      <th>min</th>\n",
       "      <th>25%</th>\n",
       "      <th>50%</th>\n",
       "      <th>75%</th>\n",
       "      <th>max</th>\n",
       "    </tr>\n",
       "  </thead>\n",
       "  <tbody>\n",
       "    <tr>\n",
       "      <th>Tsoil.C.hummock</th>\n",
       "      <td>107823.0</td>\n",
       "      <td>-1.828507</td>\n",
       "      <td>6.454091</td>\n",
       "      <td>-14.19700</td>\n",
       "      <td>-7.8690</td>\n",
       "      <td>-0.39500</td>\n",
       "      <td>3.3800</td>\n",
       "      <td>13.8100</td>\n",
       "    </tr>\n",
       "    <tr>\n",
       "      <th>Tair.C</th>\n",
       "      <td>107823.0</td>\n",
       "      <td>-6.342978</td>\n",
       "      <td>15.725561</td>\n",
       "      <td>-42.69850</td>\n",
       "      <td>-19.8581</td>\n",
       "      <td>-4.25700</td>\n",
       "      <td>5.9652</td>\n",
       "      <td>31.8191</td>\n",
       "    </tr>\n",
       "    <tr>\n",
       "      <th>RH.percent</th>\n",
       "      <td>107823.0</td>\n",
       "      <td>85.617563</td>\n",
       "      <td>13.612570</td>\n",
       "      <td>20.39000</td>\n",
       "      <td>82.2600</td>\n",
       "      <td>88.90000</td>\n",
       "      <td>94.5000</td>\n",
       "      <td>100.0000</td>\n",
       "    </tr>\n",
       "    <tr>\n",
       "      <th>VWC.m3.per.m3.interhummock</th>\n",
       "      <td>107823.0</td>\n",
       "      <td>0.146827</td>\n",
       "      <td>0.088468</td>\n",
       "      <td>0.04900</td>\n",
       "      <td>0.0613</td>\n",
       "      <td>0.11290</td>\n",
       "      <td>0.2436</td>\n",
       "      <td>0.3053</td>\n",
       "    </tr>\n",
       "    <tr>\n",
       "      <th>VWC.m3.per.m3.hummock</th>\n",
       "      <td>107823.0</td>\n",
       "      <td>0.081777</td>\n",
       "      <td>0.053661</td>\n",
       "      <td>0.01501</td>\n",
       "      <td>0.0243</td>\n",
       "      <td>0.10144</td>\n",
       "      <td>0.1332</td>\n",
       "      <td>0.2124</td>\n",
       "    </tr>\n",
       "  </tbody>\n",
       "</table>\n",
       "</div>"
      ],
      "text/plain": [
       "                               count       mean        std       min      25%  \\\n",
       "Tsoil.C.hummock             107823.0  -1.828507   6.454091 -14.19700  -7.8690   \n",
       "Tair.C                      107823.0  -6.342978  15.725561 -42.69850 -19.8581   \n",
       "RH.percent                  107823.0  85.617563  13.612570  20.39000  82.2600   \n",
       "VWC.m3.per.m3.interhummock  107823.0   0.146827   0.088468   0.04900   0.0613   \n",
       "VWC.m3.per.m3.hummock       107823.0   0.081777   0.053661   0.01501   0.0243   \n",
       "\n",
       "                                 50%      75%       max  \n",
       "Tsoil.C.hummock             -0.39500   3.3800   13.8100  \n",
       "Tair.C                      -4.25700   5.9652   31.8191  \n",
       "RH.percent                  88.90000  94.5000  100.0000  \n",
       "VWC.m3.per.m3.interhummock   0.11290   0.2436    0.3053  \n",
       "VWC.m3.per.m3.hummock        0.10144   0.1332    0.2124  "
      ]
     },
     "execution_count": 6,
     "metadata": {},
     "output_type": "execute_result"
    }
   ],
   "source": [
    "df.drop(['DateTime'], axis=1).describe().transpose()"
   ]
  },
  {
   "cell_type": "markdown",
   "metadata": {},
   "source": [
    "Simulo la costruzione di indicatori che possano aumentare il dataset disponibile"
   ]
  },
  {
   "cell_type": "markdown",
   "metadata": {},
   "source": [
    "def rolling_mean(df, col_name, window):\n",
    "    return df[col_name].rolling(window).mean()"
   ]
  },
  {
   "cell_type": "markdown",
   "metadata": {},
   "source": [
    "for col in df.columns:\n",
    "    if df[col].dtype == 'float64':\n",
    "        df[f'rollmean5_{col}'] = rolling_mean(df, col, 6)\n",
    "        df[f'rollstd5_{col}'] = df[col].rolling(6).std()"
   ]
  },
  {
   "cell_type": "code",
   "execution_count": 7,
   "metadata": {},
   "outputs": [
    {
     "data": {
      "text/html": [
       "<div>\n",
       "<style scoped>\n",
       "    .dataframe tbody tr th:only-of-type {\n",
       "        vertical-align: middle;\n",
       "    }\n",
       "\n",
       "    .dataframe tbody tr th {\n",
       "        vertical-align: top;\n",
       "    }\n",
       "\n",
       "    .dataframe thead th {\n",
       "        text-align: right;\n",
       "    }\n",
       "</style>\n",
       "<table border=\"1\" class=\"dataframe\">\n",
       "  <thead>\n",
       "    <tr style=\"text-align: right;\">\n",
       "      <th></th>\n",
       "      <th>Tsoil.C.hummock</th>\n",
       "      <th>Tair.C</th>\n",
       "      <th>RH.percent</th>\n",
       "      <th>VWC.m3.per.m3.interhummock</th>\n",
       "      <th>VWC.m3.per.m3.hummock</th>\n",
       "    </tr>\n",
       "    <tr>\n",
       "      <th>Record</th>\n",
       "      <th></th>\n",
       "      <th></th>\n",
       "      <th></th>\n",
       "      <th></th>\n",
       "      <th></th>\n",
       "    </tr>\n",
       "  </thead>\n",
       "  <tbody>\n",
       "    <tr>\n",
       "      <th>1</th>\n",
       "      <td>11.0269</td>\n",
       "      <td>15.7624</td>\n",
       "      <td>79.46</td>\n",
       "      <td>0.26180</td>\n",
       "      <td>0.13680</td>\n",
       "    </tr>\n",
       "    <tr>\n",
       "      <th>2</th>\n",
       "      <td>10.9539</td>\n",
       "      <td>15.5471</td>\n",
       "      <td>80.05</td>\n",
       "      <td>0.26124</td>\n",
       "      <td>0.13736</td>\n",
       "    </tr>\n",
       "    <tr>\n",
       "      <th>3</th>\n",
       "      <td>10.8977</td>\n",
       "      <td>15.0431</td>\n",
       "      <td>80.83</td>\n",
       "      <td>0.26156</td>\n",
       "      <td>0.13704</td>\n",
       "    </tr>\n",
       "    <tr>\n",
       "      <th>4</th>\n",
       "      <td>10.8319</td>\n",
       "      <td>14.2438</td>\n",
       "      <td>82.57</td>\n",
       "      <td>0.26229</td>\n",
       "      <td>0.13736</td>\n",
       "    </tr>\n",
       "    <tr>\n",
       "      <th>5</th>\n",
       "      <td>10.7582</td>\n",
       "      <td>13.8772</td>\n",
       "      <td>85.02</td>\n",
       "      <td>0.26201</td>\n",
       "      <td>0.13704</td>\n",
       "    </tr>\n",
       "    <tr>\n",
       "      <th>...</th>\n",
       "      <td>...</td>\n",
       "      <td>...</td>\n",
       "      <td>...</td>\n",
       "      <td>...</td>\n",
       "      <td>...</td>\n",
       "    </tr>\n",
       "    <tr>\n",
       "      <th>107819</th>\n",
       "      <td>6.0770</td>\n",
       "      <td>15.3660</td>\n",
       "      <td>62.70</td>\n",
       "      <td>0.19350</td>\n",
       "      <td>0.13180</td>\n",
       "    </tr>\n",
       "    <tr>\n",
       "      <th>107820</th>\n",
       "      <td>6.1790</td>\n",
       "      <td>14.0980</td>\n",
       "      <td>65.50</td>\n",
       "      <td>0.19350</td>\n",
       "      <td>0.13180</td>\n",
       "    </tr>\n",
       "    <tr>\n",
       "      <th>107821</th>\n",
       "      <td>6.2550</td>\n",
       "      <td>16.3440</td>\n",
       "      <td>64.70</td>\n",
       "      <td>0.19350</td>\n",
       "      <td>0.13180</td>\n",
       "    </tr>\n",
       "    <tr>\n",
       "      <th>107822</th>\n",
       "      <td>6.3310</td>\n",
       "      <td>14.7680</td>\n",
       "      <td>64.70</td>\n",
       "      <td>0.19350</td>\n",
       "      <td>0.13180</td>\n",
       "    </tr>\n",
       "    <tr>\n",
       "      <th>107823</th>\n",
       "      <td>6.4080</td>\n",
       "      <td>16.0100</td>\n",
       "      <td>66.40</td>\n",
       "      <td>0.19350</td>\n",
       "      <td>0.13180</td>\n",
       "    </tr>\n",
       "  </tbody>\n",
       "</table>\n",
       "<p>107823 rows × 5 columns</p>\n",
       "</div>"
      ],
      "text/plain": [
       "        Tsoil.C.hummock   Tair.C  RH.percent  VWC.m3.per.m3.interhummock  \\\n",
       "Record                                                                     \n",
       "1               11.0269  15.7624       79.46                     0.26180   \n",
       "2               10.9539  15.5471       80.05                     0.26124   \n",
       "3               10.8977  15.0431       80.83                     0.26156   \n",
       "4               10.8319  14.2438       82.57                     0.26229   \n",
       "5               10.7582  13.8772       85.02                     0.26201   \n",
       "...                 ...      ...         ...                         ...   \n",
       "107819           6.0770  15.3660       62.70                     0.19350   \n",
       "107820           6.1790  14.0980       65.50                     0.19350   \n",
       "107821           6.2550  16.3440       64.70                     0.19350   \n",
       "107822           6.3310  14.7680       64.70                     0.19350   \n",
       "107823           6.4080  16.0100       66.40                     0.19350   \n",
       "\n",
       "        VWC.m3.per.m3.hummock  \n",
       "Record                         \n",
       "1                     0.13680  \n",
       "2                     0.13736  \n",
       "3                     0.13704  \n",
       "4                     0.13736  \n",
       "5                     0.13704  \n",
       "...                       ...  \n",
       "107819                0.13180  \n",
       "107820                0.13180  \n",
       "107821                0.13180  \n",
       "107822                0.13180  \n",
       "107823                0.13180  \n",
       "\n",
       "[107823 rows x 5 columns]"
      ]
     },
     "execution_count": 7,
     "metadata": {},
     "output_type": "execute_result"
    }
   ],
   "source": [
    "df.dropna().drop([\"DateTime\"], axis=1)"
   ]
  },
  {
   "cell_type": "markdown",
   "metadata": {},
   "source": [
    "Costruisco un modello a caso"
   ]
  },
  {
   "cell_type": "code",
   "execution_count": 8,
   "metadata": {},
   "outputs": [
    {
     "name": "stdout",
     "output_type": "stream",
     "text": [
      "WARNING:tensorflow:From c:\\Users\\paolo\\Documents\\GitHub\\tentative_agri_proj\\.venv\\Lib\\site-packages\\keras\\src\\losses.py:2976: The name tf.losses.sparse_softmax_cross_entropy is deprecated. Please use tf.compat.v1.losses.sparse_softmax_cross_entropy instead.\n",
      "\n"
     ]
    }
   ],
   "source": [
    "import tensorflow as tf"
   ]
  },
  {
   "cell_type": "code",
   "execution_count": 9,
   "metadata": {},
   "outputs": [],
   "source": [
    "from tensorflow.keras import Model\n",
    "from tensorflow.keras.layers import Dense, LSTM"
   ]
  },
  {
   "cell_type": "code",
   "execution_count": 10,
   "metadata": {},
   "outputs": [
    {
     "name": "stdout",
     "output_type": "stream",
     "text": [
      "WARNING:tensorflow:From c:\\Users\\paolo\\Documents\\GitHub\\tentative_agri_proj\\.venv\\Lib\\site-packages\\keras\\src\\backend.py:873: The name tf.get_default_graph is deprecated. Please use tf.compat.v1.get_default_graph instead.\n",
      "\n"
     ]
    }
   ],
   "source": [
    "class MyTFModel(Model):\n",
    "    def __init__(self):\n",
    "        super().__init__()\n",
    "        self.lstm = LSTM(units=100)\n",
    "        self.dense1 = Dense(128, activation='relu')\n",
    "        self.dense2 = Dense(10)\n",
    "        self.dense3 = Dense(2)\n",
    "    \n",
    "    def call(self, x):\n",
    "        x = self.lstm(x)\n",
    "        x = self.dense1(x)\n",
    "        x = self.dense2(x)\n",
    "        return self.dense3(x)\n",
    "    \n",
    "model = MyTFModel()"
   ]
  },
  {
   "cell_type": "code",
   "execution_count": 14,
   "metadata": {},
   "outputs": [
    {
     "data": {
      "text/plain": [
       "{'module': None,\n",
       " 'class_name': 'MyTFModel',\n",
       " 'config': {},\n",
       " 'registered_name': 'MyTFModel'}"
      ]
     },
     "execution_count": 14,
     "metadata": {},
     "output_type": "execute_result"
    }
   ],
   "source": [
    "tf.keras.saving.serialize_keras_object(model)"
   ]
  },
  {
   "cell_type": "code",
   "execution_count": 9,
   "metadata": {},
   "outputs": [],
   "source": [
    "df = df.dropna().drop([\"DateTime\"], axis=1)"
   ]
  },
  {
   "cell_type": "code",
   "execution_count": 10,
   "metadata": {},
   "outputs": [],
   "source": [
    "column_indices = {name: i for i, name in enumerate(df.columns)}\n",
    "\n",
    "n = len(df)\n",
    "train_df = df[0:int(n*0.7)]\n",
    "val_df = df[int(n*0.7):int(n*0.9)]\n",
    "test_df = df[int(n*0.9):]\n",
    "\n",
    "num_features = df.shape[1]"
   ]
  },
  {
   "cell_type": "code",
   "execution_count": 11,
   "metadata": {},
   "outputs": [
    {
     "data": {
      "text/plain": [
       "5"
      ]
     },
     "execution_count": 11,
     "metadata": {},
     "output_type": "execute_result"
    }
   ],
   "source": [
    "num_features"
   ]
  },
  {
   "cell_type": "code",
   "execution_count": 12,
   "metadata": {},
   "outputs": [],
   "source": [
    "# Normalise\n",
    "train_mean = train_df.mean()\n",
    "train_std = train_df.std()\n",
    "\n",
    "train_df = (train_df - train_mean) / train_std\n",
    "val_df = (val_df - train_mean) / train_std\n",
    "test_df = (test_df - train_mean) / train_std"
   ]
  },
  {
   "cell_type": "code",
   "execution_count": 13,
   "metadata": {},
   "outputs": [],
   "source": [
    "import seaborn as sns\n",
    "import matplotlib.pyplot as plt"
   ]
  },
  {
   "cell_type": "code",
   "execution_count": 14,
   "metadata": {},
   "outputs": [
    {
     "name": "stderr",
     "output_type": "stream",
     "text": [
      "C:\\Users\\paolo\\AppData\\Local\\Temp\\ipykernel_7536\\3214313372.py:5: UserWarning: set_ticklabels() should only be used with a fixed number of ticks, i.e. after set_ticks() or using a FixedLocator.\n",
      "  _ = ax.set_xticklabels(df.keys(), rotation=90)\n"
     ]
    },
    {
     "data": {
      "image/png": "[encoded data removed]",
      "text/plain": [
       "<Figure size 1200x600 with 1 Axes>"
      ]
     },
     "metadata": {},
     "output_type": "display_data"
    }
   ],
   "source": [
    "df_std = (df - train_mean) / train_std\n",
    "df_std = df_std.melt(var_name='Column', value_name='Normalized')\n",
    "plt.figure(figsize=(12, 6))\n",
    "ax = sns.violinplot(x='Column', y='Normalized', data=df_std)\n",
    "_ = ax.set_xticklabels(df.keys(), rotation=90)"
   ]
  },
  {
   "cell_type": "code",
   "execution_count": 15,
   "metadata": {},
   "outputs": [],
   "source": [
    "# WINDOWING\n",
    "def get_windowed_data(df, window_size, label_cols):\n",
    "    label_to_index = {name: i for i, name in enumerate(df.columns)}\n",
    "    label_cols_indices = []\n",
    "    if isinstance(label_cols, list):\n",
    "        for col in label_cols:\n",
    "            label_cols_indices.append(label_to_index[col])\n",
    "    else:\n",
    "        label_cols_indices.append(label_to_index[label_cols])\n",
    "        \n",
    "    X = []\n",
    "    Y = []\n",
    "    for i in range(len(df) - window_size):\n",
    "        X.append(df.iloc[i:i+window_size].values)\n",
    "        Y.append(df.iloc[i+window_size, label_cols_indices].values)\n",
    "\n",
    "    return np.array(X), np.array(Y)\n",
    "\n",
    "X, Y = get_windowed_data(train_df, 10, [\"RH.percent\", \"Tair.C\"])"
   ]
  },
  {
   "cell_type": "code",
   "execution_count": 16,
   "metadata": {},
   "outputs": [
    {
     "data": {
      "text/plain": [
       "((75466, 10, 5), (75466, 2))"
      ]
     },
     "execution_count": 16,
     "metadata": {},
     "output_type": "execute_result"
    }
   ],
   "source": [
    "X.shape, Y.shape"
   ]
  },
  {
   "cell_type": "code",
   "execution_count": 17,
   "metadata": {},
   "outputs": [
    {
     "data": {
      "text/plain": [
       "((75466, 10, 5), TensorShape([75466, 2]))"
      ]
     },
     "execution_count": 17,
     "metadata": {},
     "output_type": "execute_result"
    }
   ],
   "source": [
    "X.shape, model(X).shape"
   ]
  },
  {
   "cell_type": "markdown",
   "metadata": {},
   "source": [
    "### METRICHE"
   ]
  },
  {
   "cell_type": "code",
   "execution_count": 18,
   "metadata": {},
   "outputs": [],
   "source": [
    "loss = tf.losses.MeanSquaredError()\n",
    "optimizer = tf.keras.optimizers.Adam()\n",
    "metrics = [tf.metrics.MeanAbsoluteError()]"
   ]
  },
  {
   "cell_type": "code",
   "execution_count": 19,
   "metadata": {},
   "outputs": [],
   "source": [
    "model.compile(optimizer, loss, metrics=metrics)"
   ]
  },
  {
   "cell_type": "code",
   "execution_count": 20,
   "metadata": {},
   "outputs": [],
   "source": [
    "X_val, Y_val = get_windowed_data(val_df, 10, [\"RH.percent\", \"Tair.C\"])\n",
    "X_test, Y_test = get_windowed_data(test_df, 10, [\"RH.percent\", \"Tair.C\"]) "
   ]
  },
  {
   "cell_type": "code",
   "execution_count": 21,
   "metadata": {},
   "outputs": [
    {
     "name": "stdout",
     "output_type": "stream",
     "text": [
      "Epoch 1/15\n",
      "WARNING:tensorflow:From c:\\Users\\paolo\\Documents\\GitHub\\tentative_agri_proj\\.venv\\Lib\\site-packages\\keras\\src\\utils\\tf_utils.py:492: The name tf.ragged.RaggedTensorValue is deprecated. Please use tf.compat.v1.ragged.RaggedTensorValue instead.\n",
      "\n",
      "2359/2359 [==============================] - 23s 9ms/step - loss: 0.0066 - mean_absolute_error: 0.0403 - val_loss: 0.0022 - val_mean_absolute_error: 0.0330\n",
      "Epoch 2/15\n",
      "2359/2359 [==============================] - 22s 9ms/step - loss: 0.0014 - mean_absolute_error: 0.0248 - val_loss: 0.0020 - val_mean_absolute_error: 0.0321\n",
      "Epoch 3/15\n",
      "2359/2359 [==============================] - 19s 8ms/step - loss: 0.0012 - mean_absolute_error: 0.0221 - val_loss: 0.0016 - val_mean_absolute_error: 0.0274\n",
      "Epoch 4/15\n",
      "2359/2359 [==============================] - 18s 8ms/step - loss: 0.0011 - mean_absolute_error: 0.0210 - val_loss: 0.0019 - val_mean_absolute_error: 0.0307\n",
      "Epoch 5/15\n",
      "2359/2359 [==============================] - 19s 8ms/step - loss: 0.0010 - mean_absolute_error: 0.0203 - val_loss: 0.0015 - val_mean_absolute_error: 0.0237\n",
      "Epoch 6/15\n",
      "2359/2359 [==============================] - 19s 8ms/step - loss: 9.9187e-04 - mean_absolute_error: 0.0197 - val_loss: 0.0022 - val_mean_absolute_error: 0.0285\n",
      "Epoch 7/15\n",
      "2359/2359 [==============================] - 19s 8ms/step - loss: 9.7878e-04 - mean_absolute_error: 0.0196 - val_loss: 0.0016 - val_mean_absolute_error: 0.0277\n",
      "Epoch 8/15\n",
      "2359/2359 [==============================] - 19s 8ms/step - loss: 9.5029e-04 - mean_absolute_error: 0.0193 - val_loss: 0.0013 - val_mean_absolute_error: 0.0219\n",
      "Epoch 9/15\n",
      "2359/2359 [==============================] - 19s 8ms/step - loss: 9.2554e-04 - mean_absolute_error: 0.0188 - val_loss: 0.0014 - val_mean_absolute_error: 0.0239\n",
      "Epoch 10/15\n",
      "2359/2359 [==============================] - 20s 8ms/step - loss: 9.1526e-04 - mean_absolute_error: 0.0188 - val_loss: 0.0014 - val_mean_absolute_error: 0.0232\n",
      "Epoch 11/15\n",
      "2359/2359 [==============================] - 21s 9ms/step - loss: 8.9825e-04 - mean_absolute_error: 0.0186 - val_loss: 0.0014 - val_mean_absolute_error: 0.0242\n",
      "Epoch 12/15\n",
      "2359/2359 [==============================] - 28s 12ms/step - loss: 9.1399e-04 - mean_absolute_error: 0.0186 - val_loss: 0.0013 - val_mean_absolute_error: 0.0217\n",
      "Epoch 13/15\n",
      "2359/2359 [==============================] - 26s 11ms/step - loss: 9.0244e-04 - mean_absolute_error: 0.0185 - val_loss: 0.0013 - val_mean_absolute_error: 0.0230\n",
      "Epoch 14/15\n",
      "2359/2359 [==============================] - 25s 11ms/step - loss: 8.8709e-04 - mean_absolute_error: 0.0183 - val_loss: 0.0015 - val_mean_absolute_error: 0.0264\n",
      "Epoch 15/15\n",
      "2359/2359 [==============================] - 25s 11ms/step - loss: 8.7821e-04 - mean_absolute_error: 0.0181 - val_loss: 0.0017 - val_mean_absolute_error: 0.0255\n"
     ]
    }
   ],
   "source": [
    "history = model.fit(X, Y, validation_data=(X_val, Y_val), epochs=15)"
   ]
  },
  {
   "cell_type": "code",
   "execution_count": 22,
   "metadata": {},
   "outputs": [
    {
     "name": "stdout",
     "output_type": "stream",
     "text": [
      "337/337 [==============================] - 2s 6ms/step - loss: 0.0044 - mean_absolute_error: 0.0383\n"
     ]
    },
    {
     "data": {
      "text/plain": [
       "[0.004436082672327757, 0.03826645761728287]"
      ]
     },
     "execution_count": 22,
     "metadata": {},
     "output_type": "execute_result"
    }
   ],
   "source": [
    "model.evaluate(X_test, Y_test)"
   ]
  },
  {
   "cell_type": "code",
   "execution_count": 23,
   "metadata": {},
   "outputs": [
    {
     "name": "stdout",
     "output_type": "stream",
     "text": [
      "INFO:tensorflow:Assets written to: ../data/06_models/tensorflow_lstm\\assets\n"
     ]
    },
    {
     "name": "stderr",
     "output_type": "stream",
     "text": [
      "INFO:tensorflow:Assets written to: ../data/06_models/tensorflow_lstm\\assets\n"
     ]
    },
    {
     "name": "stdout",
     "output_type": "stream",
     "text": [
      "Saved artifact at '../data/06_models/tensorflow_lstm'. The following endpoints are available:\n",
      "\n",
      "* Endpoint 'serve'\n",
      "  args_0 (POSITIONAL_ONLY): TensorSpec(shape=(None, 10, 5), dtype=tf.float32, name='input_1')\n",
      "Output Type:\n",
      "  TensorSpec(shape=(None, 2), dtype=tf.float32, name=None)\n",
      "Captures:\n",
      "  1905726339024: TensorSpec(shape=(), dtype=tf.resource, name=None)\n",
      "  1905726340944: TensorSpec(shape=(), dtype=tf.resource, name=None)\n",
      "  1905726339792: TensorSpec(shape=(), dtype=tf.resource, name=None)\n",
      "  1905726339600: TensorSpec(shape=(), dtype=tf.resource, name=None)\n",
      "  1905726340560: TensorSpec(shape=(), dtype=tf.resource, name=None)\n",
      "  1905768306576: TensorSpec(shape=(), dtype=tf.resource, name=None)\n",
      "  1905768300816: TensorSpec(shape=(), dtype=tf.resource, name=None)\n",
      "  1905768302544: TensorSpec(shape=(), dtype=tf.resource, name=None)\n",
      "  1905768300624: TensorSpec(shape=(), dtype=tf.resource, name=None)\n"
     ]
    }
   ],
   "source": [
    "model.export(\"../data/06_models/tensorflow_lstm\")"
   ]
  }
 ],
 "metadata": {
  "kernelspec": {
   "display_name": "kedro-environment",
   "language": "python",
   "name": "python3"
  },
  "language_info": {
   "codemirror_mode": {
    "name": "ipython",
    "version": 3
   },
   "file_extension": ".py",
   "mimetype": "text/x-python",
   "name": "python",
   "nbconvert_exporter": "python",
   "pygments_lexer": "ipython3",
   "version": "3.11.8"
  }
 },
 "nbformat": 4,
 "nbformat_minor": 2
}
